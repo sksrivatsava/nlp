{
 "cells": [
  {
   "cell_type": "markdown",
   "metadata": {},
   "source": [
    "# Tokenization"
   ]
  },
  {
   "cell_type": "code",
   "execution_count": 1,
   "metadata": {},
   "outputs": [
    {
     "name": "stdout",
     "output_type": "stream",
     "text": [
      "showing info https://raw.githubusercontent.com/nltk/nltk_data/gh-pages/index.xml\n"
     ]
    },
    {
     "data": {
      "text/plain": [
       "True"
      ]
     },
     "execution_count": 1,
     "metadata": {},
     "output_type": "execute_result"
    }
   ],
   "source": [
    "import nltk\n",
    "nltk.download()"
   ]
  },
  {
   "cell_type": "code",
   "execution_count": 2,
   "metadata": {},
   "outputs": [
    {
     "name": "stdout",
     "output_type": "stream",
     "text": [
      "['abc', 'abc.zip', 'alpino', 'alpino.zip', 'biocreative_ppi', 'biocreative_ppi.zip', 'brown', 'brown.zip', 'brown_tei', 'brown_tei.zip', 'cess_cat', 'cess_cat.zip', 'cess_esp', 'cess_esp.zip', 'chat80', 'chat80.zip', 'city_database', 'city_database.zip', 'cmudict', 'cmudict.zip', 'comparative_sentences', 'comparative_sentences.zip', 'comtrans.zip', 'conll2000', 'conll2000.zip', 'conll2002', 'conll2002.zip', 'conll2007.zip', 'crubadan', 'crubadan.zip', 'dependency_treebank', 'dependency_treebank.zip', 'dolch', 'dolch.zip', 'europarl_raw', 'europarl_raw.zip', 'floresta', 'floresta.zip', 'framenet_v15', 'framenet_v15.zip', 'framenet_v17', 'framenet_v17.zip', 'gazetteers', 'gazetteers.zip', 'genesis', 'genesis.zip', 'gutenberg', 'gutenberg.zip', 'ieer', 'ieer.zip', 'inaugural', 'inaugural.zip', 'indian', 'indian.zip', 'jeita.zip', 'kimmo', 'kimmo.zip', 'knbc.zip', 'lin_thesaurus', 'lin_thesaurus.zip', 'machado.zip', 'mac_morpho', 'mac_morpho.zip', 'masc_tagged.zip', 'movie_reviews', 'movie_reviews.zip', 'mte_teip5', 'mte_teip5.zip', 'names', 'names.zip', 'nombank.1.0.zip', 'nonbreaking_prefixes', 'nonbreaking_prefixes.zip', 'nps_chat', 'nps_chat.zip', 'omw', 'omw.zip', 'opinion_lexicon', 'opinion_lexicon.zip', 'panlex_swadesh.zip', 'paradigms', 'paradigms.zip', 'pil', 'pil.zip', 'pl196x', 'pl196x.zip', 'ppattach', 'ppattach.zip', 'problem_reports', 'problem_reports.zip', 'product_reviews_1', 'product_reviews_1.zip', 'product_reviews_2', 'product_reviews_2.zip', 'propbank.zip', 'pros_cons', 'pros_cons.zip', 'ptb', 'ptb.zip', 'qc', 'qc.zip', 'reuters.zip', 'rte', 'rte.zip', 'semcor.zip', 'senseval', 'senseval.zip', 'sentence_polarity', 'sentence_polarity.zip', 'sentiwordnet', 'sentiwordnet.zip', 'shakespeare', 'shakespeare.zip', 'sinica_treebank', 'sinica_treebank.zip', 'smultron', 'smultron.zip', 'state_union', 'state_union.zip', 'stopwords', 'stopwords.zip', 'subjectivity', 'subjectivity.zip', 'swadesh', 'swadesh.zip', 'switchboard', 'switchboard.zip', 'timit', 'timit.zip', 'toolbox', 'toolbox.zip', 'treebank', 'treebank.zip', 'twitter_samples', 'twitter_samples.zip', 'udhr', 'udhr.zip', 'udhr2', 'udhr2.zip', 'unicode_samples', 'unicode_samples.zip', 'universal_treebanks_v20.zip', 'verbnet', 'verbnet.zip', 'verbnet3', 'verbnet3.zip', 'webtext', 'webtext.zip', 'wordnet', 'wordnet.zip', 'wordnet_ic', 'wordnet_ic.zip', 'words', 'words.zip', 'ycoe', 'ycoe.zip']\n"
     ]
    }
   ],
   "source": [
    "import nltk.corpus\n",
    "import os\n",
    "print(os.listdir(nltk.data.find('corpora')))"
   ]
  },
  {
   "cell_type": "code",
   "execution_count": 5,
   "metadata": {},
   "outputs": [
    {
     "data": {
      "text/plain": [
       "['austen-emma.txt',\n",
       " 'austen-persuasion.txt',\n",
       " 'austen-sense.txt',\n",
       " 'bible-kjv.txt',\n",
       " 'blake-poems.txt',\n",
       " 'bryant-stories.txt',\n",
       " 'burgess-busterbrown.txt',\n",
       " 'carroll-alice.txt',\n",
       " 'chesterton-ball.txt',\n",
       " 'chesterton-brown.txt',\n",
       " 'chesterton-thursday.txt',\n",
       " 'edgeworth-parents.txt',\n",
       " 'melville-moby_dick.txt',\n",
       " 'milton-paradise.txt',\n",
       " 'shakespeare-caesar.txt',\n",
       " 'shakespeare-hamlet.txt',\n",
       " 'shakespeare-macbeth.txt',\n",
       " 'whitman-leaves.txt']"
      ]
     },
     "execution_count": 5,
     "metadata": {},
     "output_type": "execute_result"
    }
   ],
   "source": [
    "nltk.corpus.gutenberg.fileids()"
   ]
  },
  {
   "cell_type": "code",
   "execution_count": 8,
   "metadata": {},
   "outputs": [
    {
     "data": {
      "text/plain": [
       "['[', 'The', 'Tragedie', 'of', 'Hamlet', 'by', ...]"
      ]
     },
     "execution_count": 8,
     "metadata": {},
     "output_type": "execute_result"
    }
   ],
   "source": [
    "ham=nltk.corpus.gutenberg.words('shakespeare-hamlet.txt')\n",
    "ham"
   ]
  },
  {
   "cell_type": "code",
   "execution_count": 9,
   "metadata": {},
   "outputs": [
    {
     "name": "stdout",
     "output_type": "stream",
     "text": [
      "[ The Tragedie of Hamlet by William Shakespeare 1599 ] Actus Primus . Scoena Prima . Enter Barnardo and Francisco two Centinels . Barnardo . Who ' s there ? Fran . Nay answer me : Stand & vnfold your selfe Bar . Long liue the King Fran . Barnardo ? Bar . He Fran . You come most carefully vpon your houre Bar . ' Tis now strook twelue , get thee to bed Francisco Fran . For this releefe much thankes : ' Tis bitter cold , And I am sicke at heart Barn . Haue you had quiet Guard ? Fran . Not a Mouse stirring Barn . Well , goodnight . If you do meet Horatio and Marcellus , the Riuals of my Watch , bid them make hast . Enter Horatio and Marcellus . Fran . I thinke I heare them . Stand : who ' s there ? Hor . Friends to this ground Mar . And Leige - men to the Dane Fran . Giue you good night Mar . O farwel honest Soldier , who hath relieu ' d you ? Fra . Barnardo ha ' s my place : giue you goodnight . Exit Fran . Mar . Holla Barnardo Bar . Say , what is Horatio there ? Hor . A peece of him Bar . Welcome Horatio , welcome good Marcellus Mar . What , ha ' s this thing appear ' d againe to night Bar . I haue seene nothing Mar . Horatio saies , ' tis but our Fantasie , And will not let beleefe take hold of him Touching this dreaded sight , twice seene of vs , Therefore I haue intreated him along With vs , to watch the minutes of this Night , That if againe this Apparition come , He may approue our eyes , and speake to it Hor . Tush , tush , ' twill not appeare Bar . Sit downe a - while , And let vs once againe assaile your eares , That are so fortified against our Story , What we two Nights haue seene Hor . Well , sit we downe , And let vs heare Barnardo speake of this Barn . Last night of all , When yond same Starre that ' s Westward from the Pole Had made his course t ' illume that part of Heauen Where now it burnes , Marcellus and my selfe , The Bell then beating one Mar . Peace , breake thee of : Enter the Ghost . Looke where it comes againe Barn . In the same figure , like the King that ' s dead Mar . Thou art a Scholler ; speake to it Horatio Barn . Lookes it not like the King ? Marke it Horatio Hora . Most like : It harrowes me with fear & wonder Barn . It would be spoke too Mar . Question it Horatio Hor . What art "
     ]
    }
   ],
   "source": [
    "for word in ham[:500]:\n",
    "    print(word,sep=' ',end=' ')"
   ]
  },
  {
   "cell_type": "code",
   "execution_count": 6,
   "metadata": {},
   "outputs": [],
   "source": [
    "AI='''AI, the #1 emerging field of tech, is now being used at a lot of workplaces.'''"
   ]
  },
  {
   "cell_type": "code",
   "execution_count": 11,
   "metadata": {},
   "outputs": [
    {
     "data": {
      "text/plain": [
       "str"
      ]
     },
     "execution_count": 11,
     "metadata": {},
     "output_type": "execute_result"
    }
   ],
   "source": [
    "type(AI)"
   ]
  },
  {
   "cell_type": "code",
   "execution_count": 7,
   "metadata": {},
   "outputs": [],
   "source": [
    "from nltk.tokenize import word_tokenize"
   ]
  },
  {
   "cell_type": "code",
   "execution_count": 21,
   "metadata": {},
   "outputs": [
    {
     "name": "stdout",
     "output_type": "stream",
     "text": [
      "AI--,--the--#--1--emerging--field--of--tech--,--is--now--being--used--at--a--lot--of--workplaces--.--"
     ]
    }
   ],
   "source": [
    "AI_tokens=word_tokenize(AI)\n",
    "for i in AI_tokens:\n",
    "    print(i,end=\"--\")"
   ]
  },
  {
   "cell_type": "code",
   "execution_count": 16,
   "metadata": {},
   "outputs": [],
   "source": [
    "from nltk.probability import FreqDist"
   ]
  },
  {
   "cell_type": "code",
   "execution_count": 17,
   "metadata": {},
   "outputs": [
    {
     "data": {
      "text/plain": [
       "FreqDist({',': 2, 'of': 2, 'ai': 1, 'the': 1, '#': 1, '1': 1, 'emerging': 1, 'field': 1, 'tech': 1, 'is': 1, ...})"
      ]
     },
     "execution_count": 17,
     "metadata": {},
     "output_type": "execute_result"
    }
   ],
   "source": [
    "fdist=FreqDist()\n",
    "for word in AI_tokens:\n",
    "    fdist[word.lower()]+=1\n",
    "fdist"
   ]
  },
  {
   "cell_type": "code",
   "execution_count": 18,
   "metadata": {},
   "outputs": [
    {
     "data": {
      "text/plain": [
       "[(',', 14),\n",
       " ('the', 8),\n",
       " ('``', 8),\n",
       " ('ai', 7),\n",
       " ('.', 7),\n",
       " ('[', 7),\n",
       " (']', 7),\n",
       " ('intelligence', 6),\n",
       " ('as', 6),\n",
       " (\"''\", 6)]"
      ]
     },
     "execution_count": 18,
     "metadata": {},
     "output_type": "execute_result"
    }
   ],
   "source": [
    "fdist_top10=fdist.most_common(10)\n",
    "fdist_top10"
   ]
  },
  {
   "cell_type": "code",
   "execution_count": 21,
   "metadata": {},
   "outputs": [
    {
     "data": {
      "text/plain": [
       "['In computer science, artificial intelligence (AI), sometimes called machine intelligence, is intelligence demonstrated by machines, in contrast to the natural intelligence displayed by humans. Leading AI textbooks define the field as the study of \"intelligent agents\": any device that perceives its environment and takes actions that maximize its chance of successfully achieving its goals.[1] Colloquially, the term \"artificial intelligence\" is often used to describe machines (or computers) that mimic \"cognitive\" functions that humans associate with the human mind, such as \"learning\" and \"problem solving\".[2]',\n",
       " 'As machines become increasingly capable, tasks considered to require \"intelligence\" are often removed from the definition of AI, a phenomenon known as the AI effect.[3] A quip in Tesler\\'s Theorem says \"AI is whatever hasn\\'t been done yet.\"[4] For instance, optical character recognition is frequently excluded from things considered to be AI, having become a routine technology.[5] Modern machine capabilities generally classified as AI include successfully understanding human speech,[6] competing at the highest level in strategic game systems (such as chess and Go),[7] autonomously operating cars, intelligent routing in content delivery networks, and military simulations.']"
      ]
     },
     "execution_count": 21,
     "metadata": {},
     "output_type": "execute_result"
    }
   ],
   "source": [
    "from nltk.tokenize import blankline_tokenize\n",
    "AI_blank=blankline_tokenize(AI)\n",
    "AI_blank"
   ]
  },
  {
   "cell_type": "code",
   "execution_count": 22,
   "metadata": {},
   "outputs": [
    {
     "data": {
      "text/plain": [
       "2"
      ]
     },
     "execution_count": 22,
     "metadata": {},
     "output_type": "execute_result"
    }
   ],
   "source": [
    "len(AI_blank)"
   ]
  },
  {
   "cell_type": "code",
   "execution_count": 23,
   "metadata": {},
   "outputs": [],
   "source": [
    "from nltk.util import bigrams,trigrams,ngrams"
   ]
  },
  {
   "cell_type": "code",
   "execution_count": 25,
   "metadata": {},
   "outputs": [
    {
     "data": {
      "text/plain": [
       "[('In', 'computer'),\n",
       " ('computer', 'science'),\n",
       " ('science', ','),\n",
       " (',', 'artificial'),\n",
       " ('artificial', 'intelligence'),\n",
       " ('intelligence', '('),\n",
       " ('(', 'AI'),\n",
       " ('AI', ')'),\n",
       " (')', ','),\n",
       " (',', 'sometimes'),\n",
       " ('sometimes', 'called'),\n",
       " ('called', 'machine'),\n",
       " ('machine', 'intelligence'),\n",
       " ('intelligence', ','),\n",
       " (',', 'is'),\n",
       " ('is', 'intelligence'),\n",
       " ('intelligence', 'demonstrated'),\n",
       " ('demonstrated', 'by'),\n",
       " ('by', 'machines'),\n",
       " ('machines', ','),\n",
       " (',', 'in'),\n",
       " ('in', 'contrast'),\n",
       " ('contrast', 'to'),\n",
       " ('to', 'the'),\n",
       " ('the', 'natural'),\n",
       " ('natural', 'intelligence'),\n",
       " ('intelligence', 'displayed'),\n",
       " ('displayed', 'by'),\n",
       " ('by', 'humans'),\n",
       " ('humans', '.'),\n",
       " ('.', 'Leading'),\n",
       " ('Leading', 'AI'),\n",
       " ('AI', 'textbooks'),\n",
       " ('textbooks', 'define'),\n",
       " ('define', 'the'),\n",
       " ('the', 'field'),\n",
       " ('field', 'as'),\n",
       " ('as', 'the'),\n",
       " ('the', 'study'),\n",
       " ('study', 'of'),\n",
       " ('of', '``'),\n",
       " ('``', 'intelligent'),\n",
       " ('intelligent', 'agents'),\n",
       " ('agents', \"''\"),\n",
       " (\"''\", ':'),\n",
       " (':', 'any'),\n",
       " ('any', 'device'),\n",
       " ('device', 'that'),\n",
       " ('that', 'perceives'),\n",
       " ('perceives', 'its'),\n",
       " ('its', 'environment'),\n",
       " ('environment', 'and'),\n",
       " ('and', 'takes'),\n",
       " ('takes', 'actions'),\n",
       " ('actions', 'that'),\n",
       " ('that', 'maximize'),\n",
       " ('maximize', 'its'),\n",
       " ('its', 'chance'),\n",
       " ('chance', 'of'),\n",
       " ('of', 'successfully'),\n",
       " ('successfully', 'achieving'),\n",
       " ('achieving', 'its'),\n",
       " ('its', 'goals'),\n",
       " ('goals', '.'),\n",
       " ('.', '['),\n",
       " ('[', '1'),\n",
       " ('1', ']'),\n",
       " (']', 'Colloquially'),\n",
       " ('Colloquially', ','),\n",
       " (',', 'the'),\n",
       " ('the', 'term'),\n",
       " ('term', '``'),\n",
       " ('``', 'artificial'),\n",
       " ('artificial', 'intelligence'),\n",
       " ('intelligence', \"''\"),\n",
       " (\"''\", 'is'),\n",
       " ('is', 'often'),\n",
       " ('often', 'used'),\n",
       " ('used', 'to'),\n",
       " ('to', 'describe'),\n",
       " ('describe', 'machines'),\n",
       " ('machines', '('),\n",
       " ('(', 'or'),\n",
       " ('or', 'computers'),\n",
       " ('computers', ')'),\n",
       " (')', 'that'),\n",
       " ('that', 'mimic'),\n",
       " ('mimic', '``'),\n",
       " ('``', 'cognitive'),\n",
       " ('cognitive', \"''\"),\n",
       " (\"''\", 'functions'),\n",
       " ('functions', 'that'),\n",
       " ('that', 'humans'),\n",
       " ('humans', 'associate'),\n",
       " ('associate', 'with'),\n",
       " ('with', 'the'),\n",
       " ('the', 'human'),\n",
       " ('human', 'mind'),\n",
       " ('mind', ','),\n",
       " (',', 'such'),\n",
       " ('such', 'as'),\n",
       " ('as', '``'),\n",
       " ('``', 'learning'),\n",
       " ('learning', \"''\"),\n",
       " (\"''\", 'and'),\n",
       " ('and', '``'),\n",
       " ('``', 'problem'),\n",
       " ('problem', 'solving'),\n",
       " ('solving', \"''\"),\n",
       " (\"''\", '.'),\n",
       " ('.', '['),\n",
       " ('[', '2'),\n",
       " ('2', ']'),\n",
       " (']', 'As'),\n",
       " ('As', 'machines'),\n",
       " ('machines', 'become'),\n",
       " ('become', 'increasingly'),\n",
       " ('increasingly', 'capable'),\n",
       " ('capable', ','),\n",
       " (',', 'tasks'),\n",
       " ('tasks', 'considered'),\n",
       " ('considered', 'to'),\n",
       " ('to', 'require'),\n",
       " ('require', '``'),\n",
       " ('``', 'intelligence'),\n",
       " ('intelligence', \"''\"),\n",
       " (\"''\", 'are'),\n",
       " ('are', 'often'),\n",
       " ('often', 'removed'),\n",
       " ('removed', 'from'),\n",
       " ('from', 'the'),\n",
       " ('the', 'definition'),\n",
       " ('definition', 'of'),\n",
       " ('of', 'AI'),\n",
       " ('AI', ','),\n",
       " (',', 'a'),\n",
       " ('a', 'phenomenon'),\n",
       " ('phenomenon', 'known'),\n",
       " ('known', 'as'),\n",
       " ('as', 'the'),\n",
       " ('the', 'AI'),\n",
       " ('AI', 'effect'),\n",
       " ('effect', '.'),\n",
       " ('.', '['),\n",
       " ('[', '3'),\n",
       " ('3', ']'),\n",
       " (']', 'A'),\n",
       " ('A', 'quip'),\n",
       " ('quip', 'in'),\n",
       " ('in', 'Tesler'),\n",
       " ('Tesler', \"'s\"),\n",
       " (\"'s\", 'Theorem'),\n",
       " ('Theorem', 'says'),\n",
       " ('says', '``'),\n",
       " ('``', 'AI'),\n",
       " ('AI', 'is'),\n",
       " ('is', 'whatever'),\n",
       " ('whatever', 'has'),\n",
       " ('has', \"n't\"),\n",
       " (\"n't\", 'been'),\n",
       " ('been', 'done'),\n",
       " ('done', 'yet'),\n",
       " ('yet', '.'),\n",
       " ('.', '``'),\n",
       " ('``', '['),\n",
       " ('[', '4'),\n",
       " ('4', ']'),\n",
       " (']', 'For'),\n",
       " ('For', 'instance'),\n",
       " ('instance', ','),\n",
       " (',', 'optical'),\n",
       " ('optical', 'character'),\n",
       " ('character', 'recognition'),\n",
       " ('recognition', 'is'),\n",
       " ('is', 'frequently'),\n",
       " ('frequently', 'excluded'),\n",
       " ('excluded', 'from'),\n",
       " ('from', 'things'),\n",
       " ('things', 'considered'),\n",
       " ('considered', 'to'),\n",
       " ('to', 'be'),\n",
       " ('be', 'AI'),\n",
       " ('AI', ','),\n",
       " (',', 'having'),\n",
       " ('having', 'become'),\n",
       " ('become', 'a'),\n",
       " ('a', 'routine'),\n",
       " ('routine', 'technology'),\n",
       " ('technology', '.'),\n",
       " ('.', '['),\n",
       " ('[', '5'),\n",
       " ('5', ']'),\n",
       " (']', 'Modern'),\n",
       " ('Modern', 'machine'),\n",
       " ('machine', 'capabilities'),\n",
       " ('capabilities', 'generally'),\n",
       " ('generally', 'classified'),\n",
       " ('classified', 'as'),\n",
       " ('as', 'AI'),\n",
       " ('AI', 'include'),\n",
       " ('include', 'successfully'),\n",
       " ('successfully', 'understanding'),\n",
       " ('understanding', 'human'),\n",
       " ('human', 'speech'),\n",
       " ('speech', ','),\n",
       " (',', '['),\n",
       " ('[', '6'),\n",
       " ('6', ']'),\n",
       " (']', 'competing'),\n",
       " ('competing', 'at'),\n",
       " ('at', 'the'),\n",
       " ('the', 'highest'),\n",
       " ('highest', 'level'),\n",
       " ('level', 'in'),\n",
       " ('in', 'strategic'),\n",
       " ('strategic', 'game'),\n",
       " ('game', 'systems'),\n",
       " ('systems', '('),\n",
       " ('(', 'such'),\n",
       " ('such', 'as'),\n",
       " ('as', 'chess'),\n",
       " ('chess', 'and'),\n",
       " ('and', 'Go'),\n",
       " ('Go', ')'),\n",
       " (')', ','),\n",
       " (',', '['),\n",
       " ('[', '7'),\n",
       " ('7', ']'),\n",
       " (']', 'autonomously'),\n",
       " ('autonomously', 'operating'),\n",
       " ('operating', 'cars'),\n",
       " ('cars', ','),\n",
       " (',', 'intelligent'),\n",
       " ('intelligent', 'routing'),\n",
       " ('routing', 'in'),\n",
       " ('in', 'content'),\n",
       " ('content', 'delivery'),\n",
       " ('delivery', 'networks'),\n",
       " ('networks', ','),\n",
       " (',', 'and'),\n",
       " ('and', 'military'),\n",
       " ('military', 'simulations'),\n",
       " ('simulations', '.')]"
      ]
     },
     "execution_count": 25,
     "metadata": {},
     "output_type": "execute_result"
    }
   ],
   "source": [
    "quotes_bigrams=list(bigrams(AI_tokens))\n",
    "quotes_bigrams"
   ]
  },
  {
   "cell_type": "code",
   "execution_count": 26,
   "metadata": {},
   "outputs": [
    {
     "data": {
      "text/plain": [
       "[('In', 'computer', 'science'),\n",
       " ('computer', 'science', ','),\n",
       " ('science', ',', 'artificial'),\n",
       " (',', 'artificial', 'intelligence'),\n",
       " ('artificial', 'intelligence', '('),\n",
       " ('intelligence', '(', 'AI'),\n",
       " ('(', 'AI', ')'),\n",
       " ('AI', ')', ','),\n",
       " (')', ',', 'sometimes'),\n",
       " (',', 'sometimes', 'called'),\n",
       " ('sometimes', 'called', 'machine'),\n",
       " ('called', 'machine', 'intelligence'),\n",
       " ('machine', 'intelligence', ','),\n",
       " ('intelligence', ',', 'is'),\n",
       " (',', 'is', 'intelligence'),\n",
       " ('is', 'intelligence', 'demonstrated'),\n",
       " ('intelligence', 'demonstrated', 'by'),\n",
       " ('demonstrated', 'by', 'machines'),\n",
       " ('by', 'machines', ','),\n",
       " ('machines', ',', 'in'),\n",
       " (',', 'in', 'contrast'),\n",
       " ('in', 'contrast', 'to'),\n",
       " ('contrast', 'to', 'the'),\n",
       " ('to', 'the', 'natural'),\n",
       " ('the', 'natural', 'intelligence'),\n",
       " ('natural', 'intelligence', 'displayed'),\n",
       " ('intelligence', 'displayed', 'by'),\n",
       " ('displayed', 'by', 'humans'),\n",
       " ('by', 'humans', '.'),\n",
       " ('humans', '.', 'Leading'),\n",
       " ('.', 'Leading', 'AI'),\n",
       " ('Leading', 'AI', 'textbooks'),\n",
       " ('AI', 'textbooks', 'define'),\n",
       " ('textbooks', 'define', 'the'),\n",
       " ('define', 'the', 'field'),\n",
       " ('the', 'field', 'as'),\n",
       " ('field', 'as', 'the'),\n",
       " ('as', 'the', 'study'),\n",
       " ('the', 'study', 'of'),\n",
       " ('study', 'of', '``'),\n",
       " ('of', '``', 'intelligent'),\n",
       " ('``', 'intelligent', 'agents'),\n",
       " ('intelligent', 'agents', \"''\"),\n",
       " ('agents', \"''\", ':'),\n",
       " (\"''\", ':', 'any'),\n",
       " (':', 'any', 'device'),\n",
       " ('any', 'device', 'that'),\n",
       " ('device', 'that', 'perceives'),\n",
       " ('that', 'perceives', 'its'),\n",
       " ('perceives', 'its', 'environment'),\n",
       " ('its', 'environment', 'and'),\n",
       " ('environment', 'and', 'takes'),\n",
       " ('and', 'takes', 'actions'),\n",
       " ('takes', 'actions', 'that'),\n",
       " ('actions', 'that', 'maximize'),\n",
       " ('that', 'maximize', 'its'),\n",
       " ('maximize', 'its', 'chance'),\n",
       " ('its', 'chance', 'of'),\n",
       " ('chance', 'of', 'successfully'),\n",
       " ('of', 'successfully', 'achieving'),\n",
       " ('successfully', 'achieving', 'its'),\n",
       " ('achieving', 'its', 'goals'),\n",
       " ('its', 'goals', '.'),\n",
       " ('goals', '.', '['),\n",
       " ('.', '[', '1'),\n",
       " ('[', '1', ']'),\n",
       " ('1', ']', 'Colloquially'),\n",
       " (']', 'Colloquially', ','),\n",
       " ('Colloquially', ',', 'the'),\n",
       " (',', 'the', 'term'),\n",
       " ('the', 'term', '``'),\n",
       " ('term', '``', 'artificial'),\n",
       " ('``', 'artificial', 'intelligence'),\n",
       " ('artificial', 'intelligence', \"''\"),\n",
       " ('intelligence', \"''\", 'is'),\n",
       " (\"''\", 'is', 'often'),\n",
       " ('is', 'often', 'used'),\n",
       " ('often', 'used', 'to'),\n",
       " ('used', 'to', 'describe'),\n",
       " ('to', 'describe', 'machines'),\n",
       " ('describe', 'machines', '('),\n",
       " ('machines', '(', 'or'),\n",
       " ('(', 'or', 'computers'),\n",
       " ('or', 'computers', ')'),\n",
       " ('computers', ')', 'that'),\n",
       " (')', 'that', 'mimic'),\n",
       " ('that', 'mimic', '``'),\n",
       " ('mimic', '``', 'cognitive'),\n",
       " ('``', 'cognitive', \"''\"),\n",
       " ('cognitive', \"''\", 'functions'),\n",
       " (\"''\", 'functions', 'that'),\n",
       " ('functions', 'that', 'humans'),\n",
       " ('that', 'humans', 'associate'),\n",
       " ('humans', 'associate', 'with'),\n",
       " ('associate', 'with', 'the'),\n",
       " ('with', 'the', 'human'),\n",
       " ('the', 'human', 'mind'),\n",
       " ('human', 'mind', ','),\n",
       " ('mind', ',', 'such'),\n",
       " (',', 'such', 'as'),\n",
       " ('such', 'as', '``'),\n",
       " ('as', '``', 'learning'),\n",
       " ('``', 'learning', \"''\"),\n",
       " ('learning', \"''\", 'and'),\n",
       " (\"''\", 'and', '``'),\n",
       " ('and', '``', 'problem'),\n",
       " ('``', 'problem', 'solving'),\n",
       " ('problem', 'solving', \"''\"),\n",
       " ('solving', \"''\", '.'),\n",
       " (\"''\", '.', '['),\n",
       " ('.', '[', '2'),\n",
       " ('[', '2', ']'),\n",
       " ('2', ']', 'As'),\n",
       " (']', 'As', 'machines'),\n",
       " ('As', 'machines', 'become'),\n",
       " ('machines', 'become', 'increasingly'),\n",
       " ('become', 'increasingly', 'capable'),\n",
       " ('increasingly', 'capable', ','),\n",
       " ('capable', ',', 'tasks'),\n",
       " (',', 'tasks', 'considered'),\n",
       " ('tasks', 'considered', 'to'),\n",
       " ('considered', 'to', 'require'),\n",
       " ('to', 'require', '``'),\n",
       " ('require', '``', 'intelligence'),\n",
       " ('``', 'intelligence', \"''\"),\n",
       " ('intelligence', \"''\", 'are'),\n",
       " (\"''\", 'are', 'often'),\n",
       " ('are', 'often', 'removed'),\n",
       " ('often', 'removed', 'from'),\n",
       " ('removed', 'from', 'the'),\n",
       " ('from', 'the', 'definition'),\n",
       " ('the', 'definition', 'of'),\n",
       " ('definition', 'of', 'AI'),\n",
       " ('of', 'AI', ','),\n",
       " ('AI', ',', 'a'),\n",
       " (',', 'a', 'phenomenon'),\n",
       " ('a', 'phenomenon', 'known'),\n",
       " ('phenomenon', 'known', 'as'),\n",
       " ('known', 'as', 'the'),\n",
       " ('as', 'the', 'AI'),\n",
       " ('the', 'AI', 'effect'),\n",
       " ('AI', 'effect', '.'),\n",
       " ('effect', '.', '['),\n",
       " ('.', '[', '3'),\n",
       " ('[', '3', ']'),\n",
       " ('3', ']', 'A'),\n",
       " (']', 'A', 'quip'),\n",
       " ('A', 'quip', 'in'),\n",
       " ('quip', 'in', 'Tesler'),\n",
       " ('in', 'Tesler', \"'s\"),\n",
       " ('Tesler', \"'s\", 'Theorem'),\n",
       " (\"'s\", 'Theorem', 'says'),\n",
       " ('Theorem', 'says', '``'),\n",
       " ('says', '``', 'AI'),\n",
       " ('``', 'AI', 'is'),\n",
       " ('AI', 'is', 'whatever'),\n",
       " ('is', 'whatever', 'has'),\n",
       " ('whatever', 'has', \"n't\"),\n",
       " ('has', \"n't\", 'been'),\n",
       " (\"n't\", 'been', 'done'),\n",
       " ('been', 'done', 'yet'),\n",
       " ('done', 'yet', '.'),\n",
       " ('yet', '.', '``'),\n",
       " ('.', '``', '['),\n",
       " ('``', '[', '4'),\n",
       " ('[', '4', ']'),\n",
       " ('4', ']', 'For'),\n",
       " (']', 'For', 'instance'),\n",
       " ('For', 'instance', ','),\n",
       " ('instance', ',', 'optical'),\n",
       " (',', 'optical', 'character'),\n",
       " ('optical', 'character', 'recognition'),\n",
       " ('character', 'recognition', 'is'),\n",
       " ('recognition', 'is', 'frequently'),\n",
       " ('is', 'frequently', 'excluded'),\n",
       " ('frequently', 'excluded', 'from'),\n",
       " ('excluded', 'from', 'things'),\n",
       " ('from', 'things', 'considered'),\n",
       " ('things', 'considered', 'to'),\n",
       " ('considered', 'to', 'be'),\n",
       " ('to', 'be', 'AI'),\n",
       " ('be', 'AI', ','),\n",
       " ('AI', ',', 'having'),\n",
       " (',', 'having', 'become'),\n",
       " ('having', 'become', 'a'),\n",
       " ('become', 'a', 'routine'),\n",
       " ('a', 'routine', 'technology'),\n",
       " ('routine', 'technology', '.'),\n",
       " ('technology', '.', '['),\n",
       " ('.', '[', '5'),\n",
       " ('[', '5', ']'),\n",
       " ('5', ']', 'Modern'),\n",
       " (']', 'Modern', 'machine'),\n",
       " ('Modern', 'machine', 'capabilities'),\n",
       " ('machine', 'capabilities', 'generally'),\n",
       " ('capabilities', 'generally', 'classified'),\n",
       " ('generally', 'classified', 'as'),\n",
       " ('classified', 'as', 'AI'),\n",
       " ('as', 'AI', 'include'),\n",
       " ('AI', 'include', 'successfully'),\n",
       " ('include', 'successfully', 'understanding'),\n",
       " ('successfully', 'understanding', 'human'),\n",
       " ('understanding', 'human', 'speech'),\n",
       " ('human', 'speech', ','),\n",
       " ('speech', ',', '['),\n",
       " (',', '[', '6'),\n",
       " ('[', '6', ']'),\n",
       " ('6', ']', 'competing'),\n",
       " (']', 'competing', 'at'),\n",
       " ('competing', 'at', 'the'),\n",
       " ('at', 'the', 'highest'),\n",
       " ('the', 'highest', 'level'),\n",
       " ('highest', 'level', 'in'),\n",
       " ('level', 'in', 'strategic'),\n",
       " ('in', 'strategic', 'game'),\n",
       " ('strategic', 'game', 'systems'),\n",
       " ('game', 'systems', '('),\n",
       " ('systems', '(', 'such'),\n",
       " ('(', 'such', 'as'),\n",
       " ('such', 'as', 'chess'),\n",
       " ('as', 'chess', 'and'),\n",
       " ('chess', 'and', 'Go'),\n",
       " ('and', 'Go', ')'),\n",
       " ('Go', ')', ','),\n",
       " (')', ',', '['),\n",
       " (',', '[', '7'),\n",
       " ('[', '7', ']'),\n",
       " ('7', ']', 'autonomously'),\n",
       " (']', 'autonomously', 'operating'),\n",
       " ('autonomously', 'operating', 'cars'),\n",
       " ('operating', 'cars', ','),\n",
       " ('cars', ',', 'intelligent'),\n",
       " (',', 'intelligent', 'routing'),\n",
       " ('intelligent', 'routing', 'in'),\n",
       " ('routing', 'in', 'content'),\n",
       " ('in', 'content', 'delivery'),\n",
       " ('content', 'delivery', 'networks'),\n",
       " ('delivery', 'networks', ','),\n",
       " ('networks', ',', 'and'),\n",
       " (',', 'and', 'military'),\n",
       " ('and', 'military', 'simulations'),\n",
       " ('military', 'simulations', '.')]"
      ]
     },
     "execution_count": 26,
     "metadata": {},
     "output_type": "execute_result"
    }
   ],
   "source": [
    "quotes_trigrams=list(trigrams(AI_tokens))\n",
    "quotes_trigrams"
   ]
  },
  {
   "cell_type": "code",
   "execution_count": 22,
   "metadata": {},
   "outputs": [],
   "source": [
    "from nltk.stem import PorterStemmer\n",
    "pst=PorterStemmer()"
   ]
  },
  {
   "cell_type": "code",
   "execution_count": 25,
   "metadata": {},
   "outputs": [
    {
     "name": "stdout",
     "output_type": "stream",
     "text": [
      "AI  :  AI\n",
      ",  :  ,\n",
      "the  :  the\n",
      "#  :  #\n",
      "1  :  1\n",
      "emerging  :  emerg\n",
      "field  :  field\n",
      "of  :  of\n",
      "tech  :  tech\n",
      ",  :  ,\n",
      "is  :  is\n",
      "now  :  now\n",
      "being  :  be\n",
      "used  :  use\n",
      "at  :  at\n",
      "a  :  a\n",
      "lot  :  lot\n",
      "of  :  of\n",
      "workplaces  :  workplac\n",
      ".  :  .\n"
     ]
    }
   ],
   "source": [
    "for word in AI_tokens:\n",
    "    print(word,\" : \",pst.stem(word))"
   ]
  },
  {
   "cell_type": "code",
   "execution_count": 31,
   "metadata": {},
   "outputs": [
    {
     "name": "stdout",
     "output_type": "stream",
     "text": [
      "give : give\n",
      "giving : give\n",
      "given : given\n",
      "gave : gave\n"
     ]
    }
   ],
   "source": [
    "for word in ['give','giving','given','gave']:\n",
    "    print(word,\":\",pst.stem(word))"
   ]
  },
  {
   "cell_type": "code",
   "execution_count": 32,
   "metadata": {},
   "outputs": [
    {
     "name": "stdout",
     "output_type": "stream",
     "text": [
      "give : giv\n",
      "giving : giv\n",
      "given : giv\n",
      "gave : gav\n"
     ]
    }
   ],
   "source": [
    "from nltk.stem import LancasterStemmer\n",
    "lst=LancasterStemmer()\n",
    "for word in ['give','giving','given','gave']:\n",
    "    print(word,\":\",lst.stem(word))"
   ]
  },
  {
   "cell_type": "code",
   "execution_count": 41,
   "metadata": {},
   "outputs": [],
   "source": [
    "from nltk.stem import wordnet\n",
    "from nltk.stem import WordNetLemmatizer\n",
    "word_lem=WordNetLemmatizer()"
   ]
  },
  {
   "cell_type": "code",
   "execution_count": 42,
   "metadata": {},
   "outputs": [
    {
     "name": "stdout",
     "output_type": "stream",
     "text": [
      "give : give\n",
      "giving : giving\n",
      "given : given\n",
      "gave : gave\n"
     ]
    }
   ],
   "source": [
    "for word in ['give','giving','given','gave']:\n",
    "    print(word,\":\",word_lem.lemmatize(word))"
   ]
  },
  {
   "cell_type": "code",
   "execution_count": 43,
   "metadata": {},
   "outputs": [
    {
     "data": {
      "text/plain": [
       "'corpus'"
      ]
     },
     "execution_count": 43,
     "metadata": {},
     "output_type": "execute_result"
    }
   ],
   "source": [
    "word_lem.lemmatize('corpus')"
   ]
  },
  {
   "cell_type": "code",
   "execution_count": 44,
   "metadata": {},
   "outputs": [],
   "source": [
    "from nltk.corpus import stopwords"
   ]
  },
  {
   "cell_type": "code",
   "execution_count": 45,
   "metadata": {},
   "outputs": [
    {
     "data": {
      "text/plain": [
       "['i',\n",
       " 'me',\n",
       " 'my',\n",
       " 'myself',\n",
       " 'we',\n",
       " 'our',\n",
       " 'ours',\n",
       " 'ourselves',\n",
       " 'you',\n",
       " \"you're\",\n",
       " \"you've\",\n",
       " \"you'll\",\n",
       " \"you'd\",\n",
       " 'your',\n",
       " 'yours',\n",
       " 'yourself',\n",
       " 'yourselves',\n",
       " 'he',\n",
       " 'him',\n",
       " 'his',\n",
       " 'himself',\n",
       " 'she',\n",
       " \"she's\",\n",
       " 'her',\n",
       " 'hers',\n",
       " 'herself',\n",
       " 'it',\n",
       " \"it's\",\n",
       " 'its',\n",
       " 'itself',\n",
       " 'they',\n",
       " 'them',\n",
       " 'their',\n",
       " 'theirs',\n",
       " 'themselves',\n",
       " 'what',\n",
       " 'which',\n",
       " 'who',\n",
       " 'whom',\n",
       " 'this',\n",
       " 'that',\n",
       " \"that'll\",\n",
       " 'these',\n",
       " 'those',\n",
       " 'am',\n",
       " 'is',\n",
       " 'are',\n",
       " 'was',\n",
       " 'were',\n",
       " 'be',\n",
       " 'been',\n",
       " 'being',\n",
       " 'have',\n",
       " 'has',\n",
       " 'had',\n",
       " 'having',\n",
       " 'do',\n",
       " 'does',\n",
       " 'did',\n",
       " 'doing',\n",
       " 'a',\n",
       " 'an',\n",
       " 'the',\n",
       " 'and',\n",
       " 'but',\n",
       " 'if',\n",
       " 'or',\n",
       " 'because',\n",
       " 'as',\n",
       " 'until',\n",
       " 'while',\n",
       " 'of',\n",
       " 'at',\n",
       " 'by',\n",
       " 'for',\n",
       " 'with',\n",
       " 'about',\n",
       " 'against',\n",
       " 'between',\n",
       " 'into',\n",
       " 'through',\n",
       " 'during',\n",
       " 'before',\n",
       " 'after',\n",
       " 'above',\n",
       " 'below',\n",
       " 'to',\n",
       " 'from',\n",
       " 'up',\n",
       " 'down',\n",
       " 'in',\n",
       " 'out',\n",
       " 'on',\n",
       " 'off',\n",
       " 'over',\n",
       " 'under',\n",
       " 'again',\n",
       " 'further',\n",
       " 'then',\n",
       " 'once',\n",
       " 'here',\n",
       " 'there',\n",
       " 'when',\n",
       " 'where',\n",
       " 'why',\n",
       " 'how',\n",
       " 'all',\n",
       " 'any',\n",
       " 'both',\n",
       " 'each',\n",
       " 'few',\n",
       " 'more',\n",
       " 'most',\n",
       " 'other',\n",
       " 'some',\n",
       " 'such',\n",
       " 'no',\n",
       " 'nor',\n",
       " 'not',\n",
       " 'only',\n",
       " 'own',\n",
       " 'same',\n",
       " 'so',\n",
       " 'than',\n",
       " 'too',\n",
       " 'very',\n",
       " 's',\n",
       " 't',\n",
       " 'can',\n",
       " 'will',\n",
       " 'just',\n",
       " 'don',\n",
       " \"don't\",\n",
       " 'should',\n",
       " \"should've\",\n",
       " 'now',\n",
       " 'd',\n",
       " 'll',\n",
       " 'm',\n",
       " 'o',\n",
       " 're',\n",
       " 've',\n",
       " 'y',\n",
       " 'ain',\n",
       " 'aren',\n",
       " \"aren't\",\n",
       " 'couldn',\n",
       " \"couldn't\",\n",
       " 'didn',\n",
       " \"didn't\",\n",
       " 'doesn',\n",
       " \"doesn't\",\n",
       " 'hadn',\n",
       " \"hadn't\",\n",
       " 'hasn',\n",
       " \"hasn't\",\n",
       " 'haven',\n",
       " \"haven't\",\n",
       " 'isn',\n",
       " \"isn't\",\n",
       " 'ma',\n",
       " 'mightn',\n",
       " \"mightn't\",\n",
       " 'mustn',\n",
       " \"mustn't\",\n",
       " 'needn',\n",
       " \"needn't\",\n",
       " 'shan',\n",
       " \"shan't\",\n",
       " 'shouldn',\n",
       " \"shouldn't\",\n",
       " 'wasn',\n",
       " \"wasn't\",\n",
       " 'weren',\n",
       " \"weren't\",\n",
       " 'won',\n",
       " \"won't\",\n",
       " 'wouldn',\n",
       " \"wouldn't\"]"
      ]
     },
     "execution_count": 45,
     "metadata": {},
     "output_type": "execute_result"
    }
   ],
   "source": [
    "stopwords.words('english')"
   ]
  },
  {
   "cell_type": "code",
   "execution_count": 46,
   "metadata": {},
   "outputs": [
    {
     "data": {
      "text/plain": [
       "[(',', 14),\n",
       " ('the', 8),\n",
       " ('``', 8),\n",
       " ('ai', 7),\n",
       " ('.', 7),\n",
       " ('[', 7),\n",
       " (']', 7),\n",
       " ('intelligence', 6),\n",
       " ('as', 6),\n",
       " (\"''\", 6)]"
      ]
     },
     "execution_count": 46,
     "metadata": {},
     "output_type": "execute_result"
    }
   ],
   "source": [
    "fdist_top10"
   ]
  },
  {
   "cell_type": "code",
   "execution_count": 53,
   "metadata": {},
   "outputs": [],
   "source": [
    "import re\n",
    "punctuation=re.compile(r'[,./!@#$%^&*()\\'\":;|0-9]')"
   ]
  },
  {
   "cell_type": "code",
   "execution_count": 51,
   "metadata": {},
   "outputs": [
    {
     "data": {
      "text/plain": [
       "['In',\n",
       " 'computer',\n",
       " 'science',\n",
       " 'artificial',\n",
       " 'intelligence',\n",
       " 'AI',\n",
       " 'sometimes',\n",
       " 'called',\n",
       " 'machine',\n",
       " 'intelligence',\n",
       " 'is',\n",
       " 'intelligence',\n",
       " 'demonstrated',\n",
       " 'by',\n",
       " 'machines',\n",
       " 'in',\n",
       " 'contrast',\n",
       " 'to',\n",
       " 'the',\n",
       " 'natural',\n",
       " 'intelligence',\n",
       " 'displayed',\n",
       " 'by',\n",
       " 'humans',\n",
       " 'Leading',\n",
       " 'AI',\n",
       " 'textbooks',\n",
       " 'define',\n",
       " 'the',\n",
       " 'field',\n",
       " 'as',\n",
       " 'the',\n",
       " 'study',\n",
       " 'of',\n",
       " '``',\n",
       " 'intelligent',\n",
       " 'agents',\n",
       " 'any',\n",
       " 'device',\n",
       " 'that',\n",
       " 'perceives',\n",
       " 'its',\n",
       " 'environment',\n",
       " 'and',\n",
       " 'takes',\n",
       " 'actions',\n",
       " 'that',\n",
       " 'maximize',\n",
       " 'its',\n",
       " 'chance',\n",
       " 'of',\n",
       " 'successfully',\n",
       " 'achieving',\n",
       " 'its',\n",
       " 'goals',\n",
       " '[',\n",
       " ']',\n",
       " 'Colloquially',\n",
       " 'the',\n",
       " 'term',\n",
       " '``',\n",
       " 'artificial',\n",
       " 'intelligence',\n",
       " 'is',\n",
       " 'often',\n",
       " 'used',\n",
       " 'to',\n",
       " 'describe',\n",
       " 'machines',\n",
       " 'or',\n",
       " 'computers',\n",
       " 'that',\n",
       " 'mimic',\n",
       " '``',\n",
       " 'cognitive',\n",
       " 'functions',\n",
       " 'that',\n",
       " 'humans',\n",
       " 'associate',\n",
       " 'with',\n",
       " 'the',\n",
       " 'human',\n",
       " 'mind',\n",
       " 'such',\n",
       " 'as',\n",
       " '``',\n",
       " 'learning',\n",
       " 'and',\n",
       " '``',\n",
       " 'problem',\n",
       " 'solving',\n",
       " '[',\n",
       " ']',\n",
       " 'As',\n",
       " 'machines',\n",
       " 'become',\n",
       " 'increasingly',\n",
       " 'capable',\n",
       " 'tasks',\n",
       " 'considered',\n",
       " 'to',\n",
       " 'require',\n",
       " '``',\n",
       " 'intelligence',\n",
       " 'are',\n",
       " 'often',\n",
       " 'removed',\n",
       " 'from',\n",
       " 'the',\n",
       " 'definition',\n",
       " 'of',\n",
       " 'AI',\n",
       " 'a',\n",
       " 'phenomenon',\n",
       " 'known',\n",
       " 'as',\n",
       " 'the',\n",
       " 'AI',\n",
       " 'effect',\n",
       " '[',\n",
       " ']',\n",
       " 'A',\n",
       " 'quip',\n",
       " 'in',\n",
       " 'Tesler',\n",
       " 's',\n",
       " 'Theorem',\n",
       " 'says',\n",
       " '``',\n",
       " 'AI',\n",
       " 'is',\n",
       " 'whatever',\n",
       " 'has',\n",
       " 'nt',\n",
       " 'been',\n",
       " 'done',\n",
       " 'yet',\n",
       " '``',\n",
       " '[',\n",
       " ']',\n",
       " 'For',\n",
       " 'instance',\n",
       " 'optical',\n",
       " 'character',\n",
       " 'recognition',\n",
       " 'is',\n",
       " 'frequently',\n",
       " 'excluded',\n",
       " 'from',\n",
       " 'things',\n",
       " 'considered',\n",
       " 'to',\n",
       " 'be',\n",
       " 'AI',\n",
       " 'having',\n",
       " 'become',\n",
       " 'a',\n",
       " 'routine',\n",
       " 'technology',\n",
       " '[',\n",
       " ']',\n",
       " 'Modern',\n",
       " 'machine',\n",
       " 'capabilities',\n",
       " 'generally',\n",
       " 'classified',\n",
       " 'as',\n",
       " 'AI',\n",
       " 'include',\n",
       " 'successfully',\n",
       " 'understanding',\n",
       " 'human',\n",
       " 'speech',\n",
       " '[',\n",
       " ']',\n",
       " 'competing',\n",
       " 'at',\n",
       " 'the',\n",
       " 'highest',\n",
       " 'level',\n",
       " 'in',\n",
       " 'strategic',\n",
       " 'game',\n",
       " 'systems',\n",
       " 'such',\n",
       " 'as',\n",
       " 'chess',\n",
       " 'and',\n",
       " 'Go',\n",
       " '[',\n",
       " ']',\n",
       " 'autonomously',\n",
       " 'operating',\n",
       " 'cars',\n",
       " 'intelligent',\n",
       " 'routing',\n",
       " 'in',\n",
       " 'content',\n",
       " 'delivery',\n",
       " 'networks',\n",
       " 'and',\n",
       " 'military',\n",
       " 'simulations']"
      ]
     },
     "execution_count": 51,
     "metadata": {},
     "output_type": "execute_result"
    }
   ],
   "source": [
    "post_punctuation=[]\n",
    "for words in AI_tokens:\n",
    "    word=punctuation.sub(\"\",words)\n",
    "    if len(word)>0:\n",
    "        post_punctuation.append(word)\n",
    "post_punctuation\n",
    "    "
   ]
  },
  {
   "cell_type": "code",
   "execution_count": 54,
   "metadata": {},
   "outputs": [
    {
     "data": {
      "text/plain": [
       "203"
      ]
     },
     "execution_count": 54,
     "metadata": {},
     "output_type": "execute_result"
    }
   ],
   "source": [
    "len(post_punctuation)"
   ]
  },
  {
   "cell_type": "code",
   "execution_count": 56,
   "metadata": {},
   "outputs": [
    {
     "name": "stdout",
     "output_type": "stream",
     "text": [
      "[('In', 'IN')]\n",
      "[('computer', 'NN')]\n",
      "[('science', 'NN')]\n",
      "[('artificial', 'JJ')]\n",
      "[('intelligence', 'NN')]\n",
      "[('AI', 'NN')]\n",
      "[('sometimes', 'RB')]\n",
      "[('called', 'VBN')]\n",
      "[('machine', 'NN')]\n",
      "[('intelligence', 'NN')]\n",
      "[('is', 'VBZ')]\n",
      "[('intelligence', 'NN')]\n",
      "[('demonstrated', 'VBN')]\n",
      "[('by', 'IN')]\n",
      "[('machines', 'NNS')]\n",
      "[('in', 'IN')]\n",
      "[('contrast', 'NN')]\n",
      "[('to', 'TO')]\n",
      "[('the', 'DT')]\n",
      "[('natural', 'JJ')]\n",
      "[('intelligence', 'NN')]\n",
      "[('displayed', 'NN')]\n",
      "[('by', 'IN')]\n",
      "[('humans', 'NNS')]\n",
      "[('Leading', 'VBG')]\n",
      "[('AI', 'NN')]\n",
      "[('textbooks', 'NNS')]\n",
      "[('define', 'NN')]\n",
      "[('the', 'DT')]\n",
      "[('field', 'NN')]\n",
      "[('as', 'IN')]\n",
      "[('the', 'DT')]\n",
      "[('study', 'NN')]\n",
      "[('of', 'IN')]\n",
      "[('``', '``')]\n",
      "[('intelligent', 'NN')]\n",
      "[('agents', 'NNS')]\n",
      "[('any', 'DT')]\n",
      "[('device', 'NN')]\n",
      "[('that', 'IN')]\n",
      "[('perceives', 'NNS')]\n",
      "[('its', 'PRP$')]\n",
      "[('environment', 'NN')]\n",
      "[('and', 'CC')]\n",
      "[('takes', 'VBZ')]\n",
      "[('actions', 'NNS')]\n",
      "[('that', 'IN')]\n",
      "[('maximize', 'VB')]\n",
      "[('its', 'PRP$')]\n",
      "[('chance', 'NN')]\n",
      "[('of', 'IN')]\n",
      "[('successfully', 'RB')]\n",
      "[('achieving', 'VBG')]\n",
      "[('its', 'PRP$')]\n",
      "[('goals', 'NNS')]\n",
      "[('[', 'NN')]\n",
      "[(']', 'NN')]\n",
      "[('Colloquially', 'RB')]\n",
      "[('the', 'DT')]\n",
      "[('term', 'NN')]\n",
      "[('``', '``')]\n",
      "[('artificial', 'JJ')]\n",
      "[('intelligence', 'NN')]\n",
      "[('is', 'VBZ')]\n",
      "[('often', 'RB')]\n",
      "[('used', 'VBN')]\n",
      "[('to', 'TO')]\n",
      "[('describe', 'NN')]\n",
      "[('machines', 'NNS')]\n",
      "[('or', 'CC')]\n",
      "[('computers', 'NNS')]\n",
      "[('that', 'IN')]\n",
      "[('mimic', 'NN')]\n",
      "[('``', '``')]\n",
      "[('cognitive', 'NN')]\n",
      "[('functions', 'NNS')]\n",
      "[('that', 'IN')]\n",
      "[('humans', 'NNS')]\n",
      "[('associate', 'NN')]\n",
      "[('with', 'IN')]\n",
      "[('the', 'DT')]\n",
      "[('human', 'NN')]\n",
      "[('mind', 'NN')]\n",
      "[('such', 'JJ')]\n",
      "[('as', 'IN')]\n",
      "[('``', '``')]\n",
      "[('learning', 'VBG')]\n",
      "[('and', 'CC')]\n",
      "[('``', '``')]\n",
      "[('problem', 'NN')]\n",
      "[('solving', 'VBG')]\n",
      "[('[', 'NN')]\n",
      "[(']', 'NN')]\n",
      "[('As', 'IN')]\n",
      "[('machines', 'NNS')]\n",
      "[('become', 'NN')]\n",
      "[('increasingly', 'RB')]\n",
      "[('capable', 'JJ')]\n",
      "[('tasks', 'NNS')]\n",
      "[('considered', 'VBN')]\n",
      "[('to', 'TO')]\n",
      "[('require', 'NN')]\n",
      "[('``', '``')]\n",
      "[('intelligence', 'NN')]\n",
      "[('are', 'VBP')]\n",
      "[('often', 'RB')]\n",
      "[('removed', 'VBN')]\n",
      "[('from', 'IN')]\n",
      "[('the', 'DT')]\n",
      "[('definition', 'NN')]\n",
      "[('of', 'IN')]\n",
      "[('AI', 'NN')]\n",
      "[('a', 'DT')]\n",
      "[('phenomenon', 'NN')]\n",
      "[('known', 'VBN')]\n",
      "[('as', 'IN')]\n",
      "[('the', 'DT')]\n",
      "[('AI', 'NN')]\n",
      "[('effect', 'NN')]\n",
      "[('[', 'NN')]\n",
      "[(']', 'NN')]\n",
      "[('A', 'DT')]\n",
      "[('quip', 'NN')]\n",
      "[('in', 'IN')]\n",
      "[('Tesler', 'NN')]\n",
      "[('s', 'NN')]\n",
      "[('Theorem', 'NN')]\n",
      "[('says', 'VBZ')]\n",
      "[('``', '``')]\n",
      "[('AI', 'NN')]\n",
      "[('is', 'VBZ')]\n",
      "[('whatever', 'WDT')]\n",
      "[('has', 'VBZ')]\n",
      "[('nt', 'NN')]\n",
      "[('been', 'VBN')]\n",
      "[('done', 'VBN')]\n",
      "[('yet', 'RB')]\n",
      "[('``', '``')]\n",
      "[('[', 'NN')]\n",
      "[(']', 'NN')]\n",
      "[('For', 'IN')]\n",
      "[('instance', 'NN')]\n",
      "[('optical', 'JJ')]\n",
      "[('character', 'NN')]\n",
      "[('recognition', 'NN')]\n",
      "[('is', 'VBZ')]\n",
      "[('frequently', 'RB')]\n",
      "[('excluded', 'VBN')]\n",
      "[('from', 'IN')]\n",
      "[('things', 'NNS')]\n",
      "[('considered', 'VBN')]\n",
      "[('to', 'TO')]\n",
      "[('be', 'VB')]\n",
      "[('AI', 'NN')]\n",
      "[('having', 'VBG')]\n",
      "[('become', 'NN')]\n",
      "[('a', 'DT')]\n",
      "[('routine', 'NN')]\n",
      "[('technology', 'NN')]\n",
      "[('[', 'NN')]\n",
      "[(']', 'NN')]\n",
      "[('Modern', 'JJ')]\n",
      "[('machine', 'NN')]\n",
      "[('capabilities', 'NNS')]\n",
      "[('generally', 'RB')]\n",
      "[('classified', 'VBN')]\n",
      "[('as', 'IN')]\n",
      "[('AI', 'NN')]\n",
      "[('include', 'NN')]\n",
      "[('successfully', 'RB')]\n",
      "[('understanding', 'VBG')]\n",
      "[('human', 'NN')]\n",
      "[('speech', 'NN')]\n",
      "[('[', 'NN')]\n",
      "[(']', 'NN')]\n",
      "[('competing', 'VBG')]\n",
      "[('at', 'IN')]\n",
      "[('the', 'DT')]\n",
      "[('highest', 'JJS')]\n",
      "[('level', 'NN')]\n",
      "[('in', 'IN')]\n",
      "[('strategic', 'JJ')]\n",
      "[('game', 'NN')]\n",
      "[('systems', 'NNS')]\n",
      "[('such', 'JJ')]\n",
      "[('as', 'IN')]\n",
      "[('chess', 'NN')]\n",
      "[('and', 'CC')]\n",
      "[('Go', 'VB')]\n",
      "[('[', 'NN')]\n",
      "[(']', 'NN')]\n",
      "[('autonomously', 'RB')]\n",
      "[('operating', 'NN')]\n",
      "[('cars', 'NNS')]\n",
      "[('intelligent', 'NN')]\n",
      "[('routing', 'VBG')]\n",
      "[('in', 'IN')]\n",
      "[('content', 'NN')]\n",
      "[('delivery', 'NN')]\n",
      "[('networks', 'NNS')]\n",
      "[('and', 'CC')]\n",
      "[('military', 'JJ')]\n",
      "[('simulations', 'NNS')]\n"
     ]
    }
   ],
   "source": [
    "for token in post_punctuation:\n",
    "    print(nltk.pos_tag([token]))\n",
    "    "
   ]
  },
  {
   "cell_type": "code",
   "execution_count": 57,
   "metadata": {},
   "outputs": [],
   "source": [
    "from nltk import ne_chunk"
   ]
  },
  {
   "cell_type": "code",
   "execution_count": 64,
   "metadata": {},
   "outputs": [
    {
     "name": "stdout",
     "output_type": "stream",
     "text": [
      "(S\n",
      "  The/DT\n",
      "  (ORGANIZATION US/NNP)\n",
      "  President/NNP\n",
      "  stays/VBZ\n",
      "  in/IN\n",
      "  the/DT\n",
      "  (FACILITY WHITE/NNP HOUSE/NNP))\n"
     ]
    }
   ],
   "source": [
    "NE_tokens=word_tokenize('The US President stays in the WHITE HOUSE')\n",
    "NE_tags=nltk.pos_tag(NE_tokens)\n",
    "NE_NER=ne_chunk(NE_tags)\n",
    "print(NE_NER)"
   ]
  },
  {
   "cell_type": "code",
   "execution_count": 66,
   "metadata": {},
   "outputs": [],
   "source": [
    "import pandas as pd\n",
    "import numpy as np\n"
   ]
  },
  {
   "cell_type": "code",
   "execution_count": 67,
   "metadata": {},
   "outputs": [],
   "source": [
    "from sklearn.feature_extraction.text import CountVectorizer"
   ]
  },
  {
   "cell_type": "code",
   "execution_count": 69,
   "metadata": {},
   "outputs": [
    {
     "name": "stdout",
     "output_type": "stream",
     "text": [
      "['abc', 'abc.zip', 'alpino', 'alpino.zip', 'biocreative_ppi', 'biocreative_ppi.zip', 'brown', 'brown.zip', 'brown_tei', 'brown_tei.zip', 'cess_cat', 'cess_cat.zip', 'cess_esp', 'cess_esp.zip', 'chat80', 'chat80.zip', 'city_database', 'city_database.zip', 'cmudict', 'cmudict.zip', 'comparative_sentences', 'comparative_sentences.zip', 'comtrans.zip', 'conll2000', 'conll2000.zip', 'conll2002', 'conll2002.zip', 'conll2007.zip', 'crubadan', 'crubadan.zip', 'dependency_treebank', 'dependency_treebank.zip', 'dolch', 'dolch.zip', 'europarl_raw', 'europarl_raw.zip', 'floresta', 'floresta.zip', 'framenet_v15', 'framenet_v15.zip', 'framenet_v17', 'framenet_v17.zip', 'gazetteers', 'gazetteers.zip', 'genesis', 'genesis.zip', 'gutenberg', 'gutenberg.zip', 'ieer', 'ieer.zip', 'inaugural', 'inaugural.zip', 'indian', 'indian.zip', 'jeita.zip', 'kimmo', 'kimmo.zip', 'knbc.zip', 'lin_thesaurus', 'lin_thesaurus.zip', 'machado.zip', 'mac_morpho', 'mac_morpho.zip', 'masc_tagged.zip', 'movie_reviews', 'movie_reviews.zip', 'mte_teip5', 'mte_teip5.zip', 'names', 'names.zip', 'nombank.1.0.zip', 'nonbreaking_prefixes', 'nonbreaking_prefixes.zip', 'nps_chat', 'nps_chat.zip', 'omw', 'omw.zip', 'opinion_lexicon', 'opinion_lexicon.zip', 'panlex_swadesh.zip', 'paradigms', 'paradigms.zip', 'pil', 'pil.zip', 'pl196x', 'pl196x.zip', 'ppattach', 'ppattach.zip', 'problem_reports', 'problem_reports.zip', 'product_reviews_1', 'product_reviews_1.zip', 'product_reviews_2', 'product_reviews_2.zip', 'propbank.zip', 'pros_cons', 'pros_cons.zip', 'ptb', 'ptb.zip', 'qc', 'qc.zip', 'reuters.zip', 'rte', 'rte.zip', 'semcor.zip', 'senseval', 'senseval.zip', 'sentence_polarity', 'sentence_polarity.zip', 'sentiwordnet', 'sentiwordnet.zip', 'shakespeare', 'shakespeare.zip', 'sinica_treebank', 'sinica_treebank.zip', 'smultron', 'smultron.zip', 'state_union', 'state_union.zip', 'stopwords', 'stopwords.zip', 'subjectivity', 'subjectivity.zip', 'swadesh', 'swadesh.zip', 'switchboard', 'switchboard.zip', 'timit', 'timit.zip', 'toolbox', 'toolbox.zip', 'treebank', 'treebank.zip', 'twitter_samples', 'twitter_samples.zip', 'udhr', 'udhr.zip', 'udhr2', 'udhr2.zip', 'unicode_samples', 'unicode_samples.zip', 'universal_treebanks_v20.zip', 'verbnet', 'verbnet.zip', 'verbnet3', 'verbnet3.zip', 'webtext', 'webtext.zip', 'wordnet', 'wordnet.zip', 'wordnet_ic', 'wordnet_ic.zip', 'words', 'words.zip', 'ycoe', 'ycoe.zip']\n"
     ]
    }
   ],
   "source": [
    "print(os.listdir(nltk.data.find('corpora')))"
   ]
  },
  {
   "cell_type": "code",
   "execution_count": 70,
   "metadata": {},
   "outputs": [],
   "source": [
    "from nltk.corpus import movie_reviews\n"
   ]
  },
  {
   "cell_type": "code",
   "execution_count": 71,
   "metadata": {},
   "outputs": [
    {
     "name": "stdout",
     "output_type": "stream",
     "text": [
      "['neg', 'pos']\n"
     ]
    }
   ],
   "source": [
    "print(movie_reviews.categories())"
   ]
  },
  {
   "cell_type": "code",
   "execution_count": 73,
   "metadata": {},
   "outputs": [],
   "source": [
    "neg_rev=movie_reviews.fileids('neg')"
   ]
  },
  {
   "cell_type": "code",
   "execution_count": 74,
   "metadata": {},
   "outputs": [
    {
     "name": "stdout",
     "output_type": "stream",
     "text": [
      "['hello', 'bhdoifoiey', 'hoi', 'ywh', 'gui']\n"
     ]
    }
   ],
   "source": [
    "print(nltk.word_tokenize(\"hello bhdoifoiey hoi ywh gui\"))"
   ]
  },
  {
   "cell_type": "code",
   "execution_count": null,
   "metadata": {},
   "outputs": [],
   "source": []
  },
  {
   "cell_type": "code",
   "execution_count": null,
   "metadata": {},
   "outputs": [],
   "source": []
  }
 ],
 "metadata": {
  "kernelspec": {
   "display_name": "Python 3",
   "language": "python",
   "name": "python3"
  },
  "language_info": {
   "codemirror_mode": {
    "name": "ipython",
    "version": 3
   },
   "file_extension": ".py",
   "mimetype": "text/x-python",
   "name": "python",
   "nbconvert_exporter": "python",
   "pygments_lexer": "ipython3",
   "version": "3.7.4"
  }
 },
 "nbformat": 4,
 "nbformat_minor": 2
}
